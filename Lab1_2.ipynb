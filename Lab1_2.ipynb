{
  "nbformat": 4,
  "nbformat_minor": 0,
  "metadata": {
    "colab": {
      "provenance": [],
      "collapsed_sections": [],
      "authorship_tag": "ABX9TyOYxqoXsdF4CaephpPHNc9j",
      "include_colab_link": true
    },
    "kernelspec": {
      "name": "python3",
      "display_name": "Python 3"
    },
    "language_info": {
      "name": "python"
    }
  },
  "cells": [
    {
      "cell_type": "markdown",
      "metadata": {
        "id": "view-in-github",
        "colab_type": "text"
      },
      "source": [
        "<a href=\"https://colab.research.google.com/github/SemyonDuB/DA-in-GameDev-lab1/blob/main/Lab1_2.ipynb\" target=\"_parent\"><img src=\"https://colab.research.google.com/assets/colab-badge.svg\" alt=\"Open In Colab\"/></a>"
      ]
    },
    {
      "cell_type": "code",
      "execution_count": 96,
      "metadata": {
        "colab": {
          "base_uri": "https://localhost:8080/"
        },
        "id": "BjlGxiHElOYa",
        "outputId": "e87ccb52-95bb-4dba-9289-6aa9ababbe8d"
      },
      "outputs": [
        {
          "output_type": "execute_result",
          "data": {
            "text/plain": [
              "<function matplotlib.pyplot.scatter(x, y, s=None, c=None, marker=None, cmap=None, norm=None, vmin=None, vmax=None, alpha=None, linewidths=None, verts=<deprecated parameter>, edgecolors=None, *, plotnonfinite=False, data=None, **kwargs)>"
            ]
          },
          "metadata": {},
          "execution_count": 96
        }
      ],
      "source": [
        "import numpy as np\n",
        "import matplotlib.pyplot as plt\n",
        "%matplotlib inline\n",
        "\n",
        "x = [3,21,22,34,54,34,55,67,89,99]\n",
        "x = np.array(x)\n",
        "y = [2,22,24,65,79,82,55,130,150,199]\n",
        "y = np.array(y)\n",
        "\n",
        "plt.scatter"
      ]
    },
    {
      "cell_type": "code",
      "source": [
        "def model(a, b, x):\n",
        "  return a*x + b\n",
        "\n",
        "def loss_function(a, b, x, y):\n",
        "  num = len(x)\n",
        "  prediction = model(a, b, x)\n",
        "  return (0.5/num) * (np.square(prediction - y)).sum()\n",
        "\n",
        "def optimize(a,b,x,y):\n",
        "  num = len(x)\n",
        "  prediction = model(a, b, x)\n",
        "  da = (1.0/num) * ((prediction - y)*x).sum()\n",
        "  db = (1.0/num) * ((prediction - y).sum())\n",
        "  a = a - Lr*da\n",
        "  b = b - Lr*db\n",
        "  return a, b\n",
        "\n",
        "def iterate(a,b,x,y,times):\n",
        "  for i in range(times):\n",
        "    a,b = optimize(a,b,x,y)\n",
        "  return a,b"
      ],
      "metadata": {
        "id": "1y44xfz1vzM9"
      },
      "execution_count": 5,
      "outputs": []
    },
    {
      "cell_type": "code",
      "source": [
        "a = np.random.rand(1)\n",
        "print(a)\n",
        "b = np.random.rand(1)\n",
        "print(b)\n",
        "Lr = 0.000001\n",
        "\n",
        "a,b = iterate(a,b,x,y,1)\n",
        "prediction = model(a,b,x)\n",
        "loss = loss_function(a,b,x,y)\n",
        "print(a,b,loss)\n",
        "plt.scatter(x,y)\n",
        "plt.plot(x,prediction)"
      ],
      "metadata": {
        "colab": {
          "base_uri": "https://localhost:8080/",
          "height": 336
        },
        "id": "FTX8V_dFw-y7",
        "outputId": "444a1894-34c1-4f06-fd8a-63858d35437f"
      },
      "execution_count": 102,
      "outputs": [
        {
          "output_type": "stream",
          "name": "stdout",
          "text": [
            "[0.95920922]\n",
            "[0.17133477]\n",
            "[0.9616939] [0.17136955] 1166.2355680022215\n"
          ]
        },
        {
          "output_type": "execute_result",
          "data": {
            "text/plain": [
              "[<matplotlib.lines.Line2D at 0x7f96a334b2d0>]"
            ]
          },
          "metadata": {},
          "execution_count": 102
        },
        {
          "output_type": "display_data",
          "data": {
            "text/plain": [
              "<Figure size 432x288 with 1 Axes>"
            ],
            "image/png": "[encoded data removed]"
          },
          "metadata": {
            "needs_background": "light"
          }
        }
      ]
    },
    {
      "cell_type": "code",
      "source": [
        "a,b = iterate(a,b,x,y,2)\n",
        "prediction = model(a,b,x)\n",
        "loss = loss_function(a,b,x,y)\n",
        "print(a, b, loss)\n",
        "plt.scatter(x,y)\n",
        "plt.plot(x, prediction)"
      ],
      "metadata": {
        "colab": {
          "base_uri": "https://localhost:8080/",
          "height": 301
        },
        "id": "j5YXx1yazvX_",
        "outputId": "ecf9c419-400c-471e-9048-267eda32b12d"
      },
      "execution_count": 9,
      "outputs": [
        {
          "output_type": "stream",
          "name": "stdout",
          "text": [
            "[0.813774] [0.82274216] 1539.995820627625\n"
          ]
        },
        {
          "output_type": "execute_result",
          "data": {
            "text/plain": [
              "[<matplotlib.lines.Line2D at 0x7f96a3b8bd50>]"
            ]
          },
          "metadata": {},
          "execution_count": 9
        },
        {
          "output_type": "display_data",
          "data": {
            "text/plain": [
              "<Figure size 432x288 with 1 Axes>"
            ],
            "image/png": "[encoded data removed]"
          },
          "metadata": {
            "needs_background": "light"
          }
        }
      ]
    },
    {
      "cell_type": "code",
      "source": [
        "a,b = iterate(a,b,x,y,3)\n",
        "prediction = model(a,b,x)\n",
        "loss = loss_function(a, b, x, y)\n",
        "print(a,b,loss)\n",
        "plt.scatter(x,y)\n",
        "plt.plot(x,prediction)"
      ],
      "metadata": {
        "colab": {
          "base_uri": "https://localhost:8080/",
          "height": 301
        },
        "id": "i5uMa5i8z9FB",
        "outputId": "18e3a75b-fcf0-423c-8e04-7e4f5c6b4f96"
      },
      "execution_count": 12,
      "outputs": [
        {
          "output_type": "stream",
          "name": "stdout",
          "text": [
            "[0.83963905] [0.8231069] 1465.759462151177\n"
          ]
        },
        {
          "output_type": "execute_result",
          "data": {
            "text/plain": [
              "[<matplotlib.lines.Line2D at 0x7f96a3a28350>]"
            ]
          },
          "metadata": {},
          "execution_count": 12
        },
        {
          "output_type": "display_data",
          "data": {
            "text/plain": [
              "<Figure size 432x288 with 1 Axes>"
            ],
            "image/png": "[encoded data removed]"
          },
          "metadata": {
            "needs_background": "light"
          }
        }
      ]
    },
    {
      "cell_type": "code",
      "source": [
        "a,b = iterate(a,b,x,y,4)\n",
        "prediction = model(a,b,x)\n",
        "loss = loss_function(a,b,x,y)\n",
        "print(a,b,loss)\n",
        "plt.scatter(x,y)\n",
        "plt.plot(x,prediction)"
      ],
      "metadata": {
        "colab": {
          "base_uri": "https://localhost:8080/",
          "height": 301
        },
        "id": "6_PhPabs0qdT",
        "outputId": "dc35b135-75ba-4901-bead-261124c059a1"
      },
      "execution_count": 14,
      "outputs": [
        {
          "output_type": "stream",
          "name": "stdout",
          "text": [
            "[0.8620235] [0.82342188] 1403.2092232630403\n"
          ]
        },
        {
          "output_type": "execute_result",
          "data": {
            "text/plain": [
              "[<matplotlib.lines.Line2D at 0x7f96a3912c90>]"
            ]
          },
          "metadata": {},
          "execution_count": 14
        },
        {
          "output_type": "display_data",
          "data": {
            "text/plain": [
              "<Figure size 432x288 with 1 Axes>"
            ],
            "image/png": "[encoded data removed]"
          },
          "metadata": {
            "needs_background": "light"
          }
        }
      ]
    },
    {
      "cell_type": "code",
      "source": [
        "a,b = iterate(a,b,x,y,5)\n",
        "prediction = model(a,b,x)\n",
        "loss = loss_function(a,b,x,y)\n",
        "print(a,b,loss)\n",
        "plt.scatter(x,y)\n",
        "plt.plot(x, prediction)"
      ],
      "metadata": {
        "colab": {
          "base_uri": "https://localhost:8080/",
          "height": 301
        },
        "id": "ONkjXXTa0328",
        "outputId": "506dc23b-8179-4603-9004-277e9d9839f3"
      },
      "execution_count": 16,
      "outputs": [
        {
          "output_type": "stream",
          "name": "stdout",
          "text": [
            "[0.88922348] [0.82380371] 1329.3209158769337\n"
          ]
        },
        {
          "output_type": "execute_result",
          "data": {
            "text/plain": [
              "[<matplotlib.lines.Line2D at 0x7f96a395bf10>]"
            ]
          },
          "metadata": {},
          "execution_count": 16
        },
        {
          "output_type": "display_data",
          "data": {
            "text/plain": [
              "<Figure size 432x288 with 1 Axes>"
            ],
            "image/png": "[encoded data removed]"
          },
          "metadata": {
            "needs_background": "light"
          }
        }
      ]
    },
    {
      "cell_type": "code",
      "source": [
        "a,b = iterate(a,b,x,y,10000)\n",
        "prediction = model(a,b,x)\n",
        "loss = loss_function(a,b,x,y)\n",
        "print(a,b,loss)\n",
        "plt.scatter(x,y)\n",
        "plt.plot(x,prediction)"
      ],
      "metadata": {
        "colab": {
          "base_uri": "https://localhost:8080/",
          "height": 301
        },
        "id": "yInq6OVa1Kl0",
        "outputId": "926e8dbe-c4e8-4024-b8bd-325ad510ebad"
      },
      "execution_count": 20,
      "outputs": [
        {
          "output_type": "stream",
          "name": "stdout",
          "text": [
            "[1.7423701] [0.70832074] 190.94730194934516\n"
          ]
        },
        {
          "output_type": "execute_result",
          "data": {
            "text/plain": [
              "[<matplotlib.lines.Line2D at 0x7f96a368be10>]"
            ]
          },
          "metadata": {},
          "execution_count": 20
        },
        {
          "output_type": "display_data",
          "data": {
            "text/plain": [
              "<Figure size 432x288 with 1 Axes>"
            ],
            "image/png": "[encoded data removed]"
          },
          "metadata": {
            "needs_background": "light"
          }
        }
      ]
    },
    {
      "cell_type": "markdown",
      "source": [
        "\n",
        "\n",
        "---\n",
        "\n"
      ],
      "metadata": {
        "id": "6_iAIHdabxrz"
      }
    },
    {
      "cell_type": "markdown",
      "source": [
        "loss может стремиться к нулю при b = 0 и x = y, либо при значениях x и y стремящихся к нулю:\n",
        "\n"
      ],
      "metadata": {
        "id": "k-iyrSPFKL0M"
      }
    },
    {
      "cell_type": "code",
      "source": [
        "loss_function(1,0,x, x)"
      ],
      "metadata": {
        "colab": {
          "base_uri": "https://localhost:8080/"
        },
        "id": "WxeMOgW0KPbi",
        "outputId": "55ec7bf8-0ea5-48fc-8870-327a33fb7277"
      },
      "execution_count": 121,
      "outputs": [
        {
          "output_type": "execute_result",
          "data": {
            "text/plain": [
              "0.0"
            ]
          },
          "metadata": {},
          "execution_count": 121
        }
      ]
    },
    {
      "cell_type": "code",
      "source": [
        "loss_function(2,0,x*10**(-30), y*10**(-30))"
      ],
      "metadata": {
        "colab": {
          "base_uri": "https://localhost:8080/"
        },
        "id": "ECDy-6Ffcvae",
        "outputId": "d909fb7d-4a90-4546-d263-ef0a5ee68ade"
      },
      "execution_count": 126,
      "outputs": [
        {
          "output_type": "execute_result",
          "data": {
            "text/plain": [
              "2.8440000000000007e-58"
            ]
          },
          "metadata": {},
          "execution_count": 126
        }
      ]
    },
    {
      "cell_type": "code",
      "source": [
        "x1 = []\n",
        "for i in range(100):\n",
        "  x1.append(np.random.rand(1)[0])\n",
        "x1 = np.array(x1)\n",
        "\n",
        "y1 = []\n",
        "for i in range(100):\n",
        "  y1.append(np.random.rand(1)[0])\n",
        "y1 = np.array(y1)\n",
        "\n",
        "loss_function(1,0,x1,y1)"
      ],
      "metadata": {
        "colab": {
          "base_uri": "https://localhost:8080/"
        },
        "id": "dcKo-QxbbFTB",
        "outputId": "79688357-ff39-43fb-8c8b-5fbb3b3a4c83"
      },
      "execution_count": 130,
      "outputs": [
        {
          "output_type": "execute_result",
          "data": {
            "text/plain": [
              "0.08770139881690261"
            ]
          },
          "metadata": {},
          "execution_count": 130
        }
      ]
    },
    {
      "cell_type": "markdown",
      "source": [
        "\n",
        "\n",
        "---\n",
        "\n"
      ],
      "metadata": {
        "id": "NUDomMw8i8Y6"
      }
    },
    {
      "cell_type": "markdown",
      "source": [
        "Lr уменьшает на бесконечно малое число значения `a` и `b`, то есть чем меньше Lr тем меньше изменятся `a` и `b`, чем больше Lr, тем сильнее изменятся `a` и `b`:\n"
      ],
      "metadata": {
        "id": "csHaYgJQi5Xn"
      }
    },
    {
      "cell_type": "code",
      "source": [
        "Lr = 10**(-10)\n",
        "print(f\"a = {a},  b = {b}\")\n",
        "print(optimize(a,b,x,y))"
      ],
      "metadata": {
        "colab": {
          "base_uri": "https://localhost:8080/"
        },
        "id": "6XsVOOmJflLZ",
        "outputId": "d8f8ed25-007d-4ade-d3cf-a79c14141992"
      },
      "execution_count": 152,
      "outputs": [
        {
          "output_type": "stream",
          "name": "stdout",
          "text": [
            "a = [0.9616939],  b = [0.17136955]\n",
            "(array([0.96169415]), array([0.17136955]))\n"
          ]
        }
      ]
    },
    {
      "cell_type": "code",
      "source": [
        "Lr = 1\n",
        "print(f\"a = {a},  b = {b}\")\n",
        "print(optimize(a,b,x,y))"
      ],
      "metadata": {
        "colab": {
          "base_uri": "https://localhost:8080/"
        },
        "id": "BtHGsXwBihe4",
        "outputId": "9a21e291-8cd1-4fe2-e740-54d1eff7ff6c"
      },
      "execution_count": 151,
      "outputs": [
        {
          "output_type": "stream",
          "name": "stdout",
          "text": [
            "a = [0.9616939],  b = [0.17136955]\n",
            "(array([2477.84371326]), array([34.83103144]))\n"
          ]
        }
      ]
    }
  ]
}